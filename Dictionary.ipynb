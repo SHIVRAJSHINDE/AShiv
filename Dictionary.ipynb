{
 "cells": [
  {
   "cell_type": "code",
   "execution_count": 4,
   "metadata": {},
   "outputs": [
    {
     "name": "stdout",
     "output_type": "stream",
     "text": [
      "<class 'dict'>\n",
      "dict_keys(['China', 'India', 'USA'])\n",
      "dict_values([1.38, 1.34, 0.32])\n",
      "1.34\n"
     ]
    }
   ],
   "source": [
    "world={\"China\":1.38,\"India\":1.34,\"USA\":0.32}\n",
    "print(type(world))\n",
    "print(world.keys())\n",
    "print(world.values())\n",
    "print(world[\"India\"])"
   ]
  },
  {
   "cell_type": "code",
   "execution_count": 13,
   "metadata": {},
   "outputs": [
    {
     "name": "stdout",
     "output_type": "stream",
     "text": [
      "{'China': 1.38, 'India': 1.39, 'USA': 0.32, 'Indonesia': 0.26, 'Brazil': 0.21}\n",
      "True\n",
      "{'China': 1.38, 'India': 1.39, 'USA': 0.32, 'Indonesia': 0.26, 'Brazil': 0.21}\n",
      "{'China': 1.38, 'India': 1.39, 'USA': 0.32, 'Indonesia': 0.26}\n"
     ]
    }
   ],
   "source": [
    "world[\"Indonesia\"]=0.26\n",
    "world[\"Brazil\"]=0.21\n",
    "print(world)\n",
    "print(\"Indonesia\" in world)\n",
    "world[\"India\"]=1.39\n",
    "print(world)\n",
    "del(world[\"Brazil\"])\n",
    "print(world)"
   ]
  },
  {
   "cell_type": "code",
   "execution_count": 16,
   "metadata": {},
   "outputs": [],
   "source": [
    "world={\"China\":{'CAPITAL':'Beijing','Population':1.38},\n",
    "       \"India\":{'CAPITAL':'New Delhi','Population':1.34},\n",
    "       \"USA\":{'CAPITAL':'Washington D.C','Population':0.32}}"
   ]
  },
  {
   "cell_type": "code",
   "execution_count": 17,
   "metadata": {},
   "outputs": [
    {
     "name": "stdout",
     "output_type": "stream",
     "text": [
      "{'China': {'CAPITAL': 'Beijing', 'Population': 1.38}, 'India': {'CAPITAL': 'New Delhi', 'Population': 1.34}, 'USA': {'CAPITAL': 'Washington D.C', 'Population': 0.32}}\n"
     ]
    }
   ],
   "source": [
    "print(world)"
   ]
  },
  {
   "cell_type": "code",
   "execution_count": 19,
   "metadata": {},
   "outputs": [
    {
     "name": "stdout",
     "output_type": "stream",
     "text": [
      "New Delhi\n"
     ]
    }
   ],
   "source": [
    "print(world['India']['CAPITAL'])"
   ]
  },
  {
   "cell_type": "code",
   "execution_count": 23,
   "metadata": {},
   "outputs": [],
   "source": [
    "data = {'CAPITAL':'Rome','Population':59.83}"
   ]
  },
  {
   "cell_type": "code",
   "execution_count": 24,
   "metadata": {},
   "outputs": [],
   "source": [
    "world['italy']=data"
   ]
  },
  {
   "cell_type": "code",
   "execution_count": 25,
   "metadata": {},
   "outputs": [
    {
     "name": "stdout",
     "output_type": "stream",
     "text": [
      "{'China': {'CAPITAL': 'Beijing', 'Population': 1.38}, 'India': {'CAPITAL': 'New Delhi', 'Population': 1.34}, 'USA': {'CAPITAL': 'Washington D.C', 'Population': 0.32}, 'italy': {'CAPITAL': 'Rome', 'Population': 59.83}}\n"
     ]
    }
   ],
   "source": [
    "print(world)"
   ]
  },
  {
   "cell_type": "code",
   "execution_count": 27,
   "metadata": {},
   "outputs": [
    {
     "name": "stdout",
     "output_type": "stream",
     "text": [
      "{'China': {'CAPITAL': 'Beijing', 'Population': 1.38}, 'India': {'CAPITAL': 'New Delhi', 'Population': 1.34}, 'USA': {'CAPITAL': 'Washington D.C', 'Population': 0.32}, 'italy': {'CAPITAL': 'Rome', 'Population': 59.83}, 'Turkey': {'CAPITAL': 'ANKARA', 'Population': 49.83}}\n"
     ]
    }
   ],
   "source": [
    "world['Turkey'] = {'CAPITAL':'ANKARA','Population':49.83}\n",
    "print(world)"
   ]
  },
  {
   "cell_type": "code",
   "execution_count": 29,
   "metadata": {},
   "outputs": [],
   "source": [
    "Countries_names=['UNITED KINGDOM','AUSTRALIA','JAPAN','INDIA','RUSSIA','MOROCCO','EGYPT']\n",
    "rightHandDriving=[True,False,False,False,True,True,True]\n",
    "carAvg1000=[809,731,588,18,200,70,45]"
   ]
  },
  {
   "cell_type": "code",
   "execution_count": 30,
   "metadata": {},
   "outputs": [],
   "source": [
    "import pandas as pd"
   ]
  },
  {
   "cell_type": "code",
   "execution_count": 35,
   "metadata": {},
   "outputs": [
    {
     "name": "stdout",
     "output_type": "stream",
     "text": [
      "         Coutries  driverRight  carAvgPer1000\n",
      "0  UNITED KINGDOM         True            809\n",
      "1       AUSTRALIA        False            731\n",
      "2           JAPAN        False            588\n",
      "3           INDIA        False             18\n",
      "4          RUSSIA         True            200\n",
      "5         MOROCCO         True             70\n",
      "6           EGYPT         True             45\n"
     ]
    }
   ],
   "source": [
    "myDict={'Coutries' : Countries_names,\n",
    "        'driverRight' : rightHandDriving,\n",
    "        'carAvgPer1000': carAvg1000\n",
    "        \n",
    "}\n",
    "\n",
    "car = pd.DataFrame(myDict)\n",
    "print(car)"
   ]
  },
  {
   "cell_type": "code",
   "execution_count": 38,
   "metadata": {},
   "outputs": [
    {
     "data": {
      "text/html": [
       "<div>\n",
       "<style scoped>\n",
       "    .dataframe tbody tr th:only-of-type {\n",
       "        vertical-align: middle;\n",
       "    }\n",
       "\n",
       "    .dataframe tbody tr th {\n",
       "        vertical-align: top;\n",
       "    }\n",
       "\n",
       "    .dataframe thead th {\n",
       "        text-align: right;\n",
       "    }\n",
       "</style>\n",
       "<table border=\"1\" class=\"dataframe\">\n",
       "  <thead>\n",
       "    <tr style=\"text-align: right;\">\n",
       "      <th></th>\n",
       "      <th>Coutries</th>\n",
       "      <th>driverRight</th>\n",
       "      <th>carAvgPer1000</th>\n",
       "    </tr>\n",
       "  </thead>\n",
       "  <tbody>\n",
       "    <tr>\n",
       "      <td>US</td>\n",
       "      <td>UNITED KINGDOM</td>\n",
       "      <td>True</td>\n",
       "      <td>809</td>\n",
       "    </tr>\n",
       "    <tr>\n",
       "      <td>AUS</td>\n",
       "      <td>AUSTRALIA</td>\n",
       "      <td>False</td>\n",
       "      <td>731</td>\n",
       "    </tr>\n",
       "    <tr>\n",
       "      <td>JAP</td>\n",
       "      <td>JAPAN</td>\n",
       "      <td>False</td>\n",
       "      <td>588</td>\n",
       "    </tr>\n",
       "    <tr>\n",
       "      <td>IND</td>\n",
       "      <td>INDIA</td>\n",
       "      <td>False</td>\n",
       "      <td>18</td>\n",
       "    </tr>\n",
       "    <tr>\n",
       "      <td>RU</td>\n",
       "      <td>RUSSIA</td>\n",
       "      <td>True</td>\n",
       "      <td>200</td>\n",
       "    </tr>\n",
       "    <tr>\n",
       "      <td>MOR</td>\n",
       "      <td>MOROCCO</td>\n",
       "      <td>True</td>\n",
       "      <td>70</td>\n",
       "    </tr>\n",
       "    <tr>\n",
       "      <td>EGP</td>\n",
       "      <td>EGYPT</td>\n",
       "      <td>True</td>\n",
       "      <td>45</td>\n",
       "    </tr>\n",
       "  </tbody>\n",
       "</table>\n",
       "</div>"
      ],
      "text/plain": [
       "           Coutries  driverRight  carAvgPer1000\n",
       "US   UNITED KINGDOM         True            809\n",
       "AUS       AUSTRALIA        False            731\n",
       "JAP           JAPAN        False            588\n",
       "IND           INDIA        False             18\n",
       "RU           RUSSIA         True            200\n",
       "MOR         MOROCCO         True             70\n",
       "EGP           EGYPT         True             45"
      ]
     },
     "execution_count": 38,
     "metadata": {},
     "output_type": "execute_result"
    }
   ],
   "source": [
    "rowLabels=['US','AUS','JAP','IND','RU','MOR','EGP']\n",
    "car.index=rowLabels\n",
    "car"
   ]
  },
  {
   "cell_type": "code",
   "execution_count": 42,
   "metadata": {},
   "outputs": [
    {
     "data": {
      "text/plain": [
       "8"
      ]
     },
     "execution_count": 42,
     "metadata": {},
     "output_type": "execute_result"
    }
   ],
   "source": [
    "def raise_to_power(x,y):\n",
    "    return x**y\n",
    "\n",
    "raise_to_power(2,3)"
   ]
  },
  {
   "cell_type": "code",
   "execution_count": 41,
   "metadata": {},
   "outputs": [
    {
     "data": {
      "text/plain": [
       "8"
      ]
     },
     "execution_count": 41,
     "metadata": {},
     "output_type": "execute_result"
    }
   ],
   "source": [
    "#lambda\n",
    "raise_to_power=lambda x,y: x**y\n",
    "raise_to_power(2,3)"
   ]
  },
  {
   "cell_type": "code",
   "execution_count": null,
   "metadata": {},
   "outputs": [],
   "source": [
    "def power(i):\n",
    "    return i**2\n"
   ]
  },
  {
   "cell_type": "code",
   "execution_count": 44,
   "metadata": {},
   "outputs": [
    {
     "name": "stdout",
     "output_type": "stream",
     "text": [
      "execute with inter value\n",
      "3.0\n",
      "execute with string value\n",
      "please enter number\n"
     ]
    }
   ],
   "source": [
    "#exception handelling\n",
    "\n",
    "def sqrt(x):\n",
    "    try:\n",
    "        print(x**0.5)\n",
    "    except:\n",
    "        print('please enter number')\n",
    "print('execute with inter value' )\n",
    "sqrt(9)\n",
    "print(\"execute with string value\")\n",
    "sqrt(\"abcd\")\n",
    "        "
   ]
  },
  {
   "cell_type": "code",
   "execution_count": 45,
   "metadata": {},
   "outputs": [
    {
     "name": "stdout",
     "output_type": "stream",
     "text": [
      "execute with number\n",
      "execute with negative value\n"
     ]
    }
   ],
   "source": [
    "def sqrt(x):\n",
    "    if x <0:\n",
    "        raise ValueError(\"Entered value must in non negative\")\n",
    "    else:\n",
    "        print(x**0.5)\n",
    "        \n",
    "print('execute with number')\n",
    "print('execute with negative value')"
   ]
  },
  {
   "cell_type": "code",
   "execution_count": 2,
   "metadata": {},
   "outputs": [
    {
     "data": {
      "text/plain": [
       "[6, 10]"
      ]
     },
     "execution_count": 2,
     "metadata": {},
     "output_type": "execute_result"
    }
   ],
   "source": [
    "nums=[3,6,4,10,1]\n",
    "def more_than_5(x):\n",
    "    y=[]\n",
    "    for i in x:\n",
    "        if i>5:\n",
    "            y.append(i)\n",
    "    return y\n",
    "more_than_5(nums)"
   ]
  },
  {
   "cell_type": "code",
   "execution_count": 3,
   "metadata": {},
   "outputs": [
    {
     "data": {
      "text/plain": [
       "[6, 10]"
      ]
     },
     "execution_count": 3,
     "metadata": {},
     "output_type": "execute_result"
    }
   ],
   "source": [
    "# using lambda filter\n",
    "nums=[3,6,4,10,1]\n",
    "more_than_5 = filter(lambda num: num>5, nums)\n",
    "list(more_than_5)"
   ]
  },
  {
   "cell_type": "code",
   "execution_count": 7,
   "metadata": {},
   "outputs": [],
   "source": [
    "primeNum = [2,3,5,7,11,13,17,19,23,29]\n",
    "\n",
    "product = 1\n",
    "for i in primeNum:\n",
    "    product = product * i"
   ]
  },
  {
   "cell_type": "code",
   "execution_count": 9,
   "metadata": {},
   "outputs": [
    {
     "data": {
      "text/plain": [
       "6469693230"
      ]
     },
     "execution_count": 9,
     "metadata": {},
     "output_type": "execute_result"
    }
   ],
   "source": [
    "#using reduce function\n",
    "from functools import reduce\n",
    "\n",
    "reduce(lambda x,y:x *y,primeNum)"
   ]
  },
  {
   "cell_type": "code",
   "execution_count": 16,
   "metadata": {},
   "outputs": [
    {
     "name": "stdout",
     "output_type": "stream",
     "text": [
      "[0 1 2 3 4 5]\n",
      "------\n",
      "------\n",
      "[[ 0  1  2]\n",
      " [ 3  4  5]\n",
      " [ 6  7  8]\n",
      " [ 9 10 11]]\n",
      "------\n",
      "------\n",
      "[[[ 0  1  2  3]\n",
      "  [ 4  5  6  7]\n",
      "  [ 8  9 10 11]]\n",
      "\n",
      " [[12 13 14 15]\n",
      "  [16 17 18 19]\n",
      "  [20 21 22 23]]]\n",
      "------\n",
      "------\n",
      "[[[[ 0  1]\n",
      "   [ 2  3]]\n",
      "\n",
      "  [[ 4  5]\n",
      "   [ 6  7]]\n",
      "\n",
      "  [[ 8  9]\n",
      "   [10 11]]]\n",
      "\n",
      "\n",
      " [[[12 13]\n",
      "   [14 15]]\n",
      "\n",
      "  [[16 17]\n",
      "   [18 19]]\n",
      "\n",
      "  [[20 21]\n",
      "   [22 23]]]]\n"
     ]
    }
   ],
   "source": [
    "import numpy as np\n",
    "a = np.arange(6)\n",
    "b = np.arange(12).reshape(4,3)\n",
    "c = np.arange(24).reshape(2,3,4)\n",
    "d = np.arange(24).reshape(2,3,2,2)\n",
    "\n",
    "print(a)\n",
    "print(\"------\")\n",
    "print(\"------\")\n",
    "print(b)\n",
    "print(\"------\")\n",
    "print(\"------\")\n",
    "print(c)\n",
    "print(\"------\")\n",
    "print(\"------\")\n",
    "print(d)"
   ]
  },
  {
   "cell_type": "code",
   "execution_count": 63,
   "metadata": {},
   "outputs": [
    {
     "name": "stdout",
     "output_type": "stream",
     "text": [
      "<class 'numpy.ndarray'>\n",
      "(2, 5)\n",
      "[1.71 1.58 1.51 1.73 1.92]\n",
      "[65.9]\n"
     ]
    }
   ],
   "source": [
    "import numpy as np\n",
    "\n",
    "a2dArray = np.array([[1.71,1.58,1.51,1.73,1.92],\n",
    "                     [65.9,58.8,66.8,83.4,67.8]])\n",
    "print(type(a2dArray))\n",
    "\n",
    "print(a2dArray.shape)\n",
    "#print(a2dArray[0])\n",
    "print(a2dArray[0,:])\n",
    "print(a2dArray[1,0:1])\n",
    "\n"
   ]
  },
  {
   "cell_type": "code",
   "execution_count": 69,
   "metadata": {},
   "outputs": [
    {
     "name": "stdout",
     "output_type": "stream",
     "text": [
      "[26 18 44 21 48]\n"
     ]
    }
   ],
   "source": [
    "print(np.random.randint(10,50,5))\n"
   ]
  },
  {
   "cell_type": "code",
   "execution_count": 77,
   "metadata": {},
   "outputs": [
    {
     "name": "stdout",
     "output_type": "stream",
     "text": [
      "[18 34 13 49 33]\n"
     ]
    }
   ],
   "source": [
    "np.random.seed(100)\n",
    "print(np.random.randint(10,50,5))\n"
   ]
  }
 ],
 "metadata": {
  "kernelspec": {
   "display_name": "Python 3",
   "language": "python",
   "name": "python3"
  },
  "language_info": {
   "codemirror_mode": {
    "name": "ipython",
    "version": 3
   },
   "file_extension": ".py",
   "mimetype": "text/x-python",
   "name": "python",
   "nbconvert_exporter": "python",
   "pygments_lexer": "ipython3",
   "version": "3.7.4"
  }
 },
 "nbformat": 4,
 "nbformat_minor": 2
}
