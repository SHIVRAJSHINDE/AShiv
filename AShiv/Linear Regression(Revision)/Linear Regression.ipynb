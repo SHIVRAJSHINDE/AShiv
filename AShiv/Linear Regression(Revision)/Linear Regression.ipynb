{
 "cells": [
  {
   "cell_type": "code",
   "execution_count": 29,
   "metadata": {},
   "outputs": [
    {
     "name": "stdout",
     "output_type": "stream",
     "text": [
      "Dimensions of y before reshaping: (139,)\n",
      "Dimensions of X before reshaping: (139,)\n",
      "Dimensions of y after reshaping: (139, 1)\n",
      "Dimensions of X after reshaping: (139, 1)\n",
      "The score R^2 is: 0.6192442167740035\n"
     ]
    },
    {
     "data": {
      "image/png": "[encoded data removed]",
      "text/plain": [
       "<Figure size 432x288 with 1 Axes>"
      ]
     },
     "metadata": {
      "needs_background": "light"
     },
     "output_type": "display_data"
    }
   ],
   "source": [
    "import numpy as np                 # Import numpy\n",
    "import pandas as pd                # Import pandas\n",
    "df = pd.read_csv('C:\\\\Users\\\\HP\\\\AShiv\\\\gapminder.csv')   # Read the CSV file into a DataFrame: df\n",
    "# Create arrays for features and target variable\n",
    "y = df['life'].values\n",
    "X = df['fertility'].values\n",
    "\n",
    "# Print the dimensions of X and y before reshaping\n",
    "print(\"Dimensions of y before reshaping: {}\".format(y.shape)) \n",
    "print(\"Dimensions of X before reshaping: {}\".format(X.shape)) \n",
    "\n",
    "# sklearn package needs two dimensional array, hence reshape X and y into 2D.\n",
    "y = y.reshape(-1, 1) \n",
    "X = X.reshape(-1, 1)\n",
    "\n",
    "# Print the dimensions of X and y after reshaping \n",
    "print(\"Dimensions of y after reshaping: {}\".format(y.shape)) \n",
    "print(\"Dimensions of X after reshaping: {}\".format(X.shape))\n",
    "\n",
    "\n",
    "# Import LinearRegression \n",
    "from sklearn.linear_model import LinearRegression \n",
    "# Create the regressor: reg \n",
    "reg = LinearRegression()\n",
    "\n",
    "# Fit the model to the data \n",
    "reg.fit(X, y) \n",
    "\n",
    "# Print R^2 \n",
    "print(\"The score R^2 is: {}\".format(reg.score(X, y))) \n",
    "\n",
    "# Create the prediction space \n",
    "prediction_space = np.linspace(min(X), max(X)).reshape(-1,1) \n",
    "# Compute predictions over the prediction space:  y_pred\n",
    "y_pred = reg.predict(prediction_space) \n",
    "# Plot regression line \n",
    "import matplotlib.pyplot as plt \n",
    "plt.plot(prediction_space, y_pred, color='blue', linewidth=3) \n",
    "plt.show()\n"
   ]
  },
  {
   "cell_type": "code",
   "execution_count": 5,
   "metadata": {},
   "outputs": [],
   "source": []
  },
  {
   "cell_type": "code",
   "execution_count": null,
   "metadata": {},
   "outputs": [],
   "source": []
  },
  {
   "cell_type": "code",
   "execution_count": null,
   "metadata": {},
   "outputs": [],
   "source": []
  },
  {
   "cell_type": "code",
   "execution_count": null,
   "metadata": {},
   "outputs": [],
   "source": []
  },
  {
   "cell_type": "code",
   "execution_count": null,
   "metadata": {},
   "outputs": [],
   "source": []
  },
  {
   "cell_type": "code",
   "execution_count": null,
   "metadata": {},
   "outputs": [],
   "source": []
  },
  {
   "cell_type": "code",
   "execution_count": null,
   "metadata": {},
   "outputs": [],
   "source": []
  },
  {
   "cell_type": "code",
   "execution_count": null,
   "metadata": {},
   "outputs": [],
   "source": []
  },
  {
   "cell_type": "code",
   "execution_count": null,
   "metadata": {},
   "outputs": [],
   "source": []
  },
  {
   "cell_type": "code",
   "execution_count": null,
   "metadata": {},
   "outputs": [],
   "source": []
  }
 ],
 "metadata": {
  "kernelspec": {
   "display_name": "Python 3",
   "language": "python",
   "name": "python3"
  },
  "language_info": {
   "codemirror_mode": {
    "name": "ipython",
    "version": 3
   },
   "file_extension": ".py",
   "mimetype": "text/x-python",
   "name": "python",
   "nbconvert_exporter": "python",
   "pygments_lexer": "ipython3",
   "version": "3.7.4"
  }
 },
 "nbformat": 4,
 "nbformat_minor": 2
}
