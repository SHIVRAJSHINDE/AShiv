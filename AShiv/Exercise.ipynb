{
 "cells": [
  {
   "cell_type": "code",
   "execution_count": 4,
   "metadata": {},
   "outputs": [
    {
     "data": {
      "text/plain": [
       "False"
      ]
     },
     "execution_count": 4,
     "metadata": {},
     "output_type": "execute_result"
    }
   ],
   "source": [
    "import re # 01. Import the regular expression module\n",
    "           # 02. Example 1: match Phone Number \n",
    "           # 02 - 1. Define required pattern\n",
    "pattern = re.compile('\\d{3}-\\d{3}-\\d{4}')\n",
    "\n",
    "          # 02 - 2 Observe result\n",
    "rs = pattern.match('123-456-7890') \n",
    "bool(rs)\n",
    "rs = pattern.match('1234-456-7890') \n",
    "bool(rs)\n",
    "\n",
    "         # 03. Example 2: verify dollar amount format  \n",
    "         # 03 - 1. Define required pattern\n",
    "pattern = re.compile('\\$\\d*.\\d{2}')\n",
    "        \n",
    "        # 03 - 2 Observe result\n",
    "rs = pattern.match('$13.25') \n",
    "bool(rs)\n",
    "rs = pattern.match('13.25') \n",
    "bool(rs)\n"
   ]
  }
 ],
 "metadata": {
  "kernelspec": {
   "display_name": "Python 3",
   "language": "python",
   "name": "python3"
  },
  "language_info": {
   "codemirror_mode": {
    "name": "ipython",
    "version": 3
   },
   "file_extension": ".py",
   "mimetype": "text/x-python",
   "name": "python",
   "nbconvert_exporter": "python",
   "pygments_lexer": "ipython3",
   "version": "3.7.4"
  }
 },
 "nbformat": 4,
 "nbformat_minor": 2
}
