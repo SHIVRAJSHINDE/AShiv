{
 "cells": [
  {
   "cell_type": "code",
   "execution_count": 8,
   "metadata": {},
   "outputs": [
    {
     "name": "stdout",
     "output_type": "stream",
     "text": [
      "[10, 10, 10]\n",
      "[10, 10, 10]\n",
      "[10, 10, 10]\n"
     ]
    }
   ],
   "source": [
    "a=[[8,3,7],\n",
    "  [2,5,9],\n",
    "  [9,3,2]]\n",
    "b=[[2,7,3],\n",
    "   [8,5,1],\n",
    "   [1,7,8]]\n",
    "c=[[0,0,0],\n",
    "   [0,0,0],\n",
    "   [0,0,0]]\n",
    "\n",
    "for i in range(len(a)):\n",
    "    for j in range(len(b)):\n",
    "        c[i][i]=a[i][j]+b[i][j]\n",
    "        \n",
    "for r in c:\n",
    "    print(r)"
   ]
  },
  {
   "cell_type": "code",
   "execution_count": 68,
   "metadata": {},
   "outputs": [
    {
     "name": "stdout",
     "output_type": "stream",
     "text": [
      "[47, 120, 83]\n",
      "[53, 102, 83]\n",
      "[44, 92, 46]\n"
     ]
    }
   ],
   "source": [
    "a=[[8,3,7],\n",
    "  [2,5,9],\n",
    "  [9,3,2]]\n",
    "b=[[2,7,3],\n",
    "   [8,5,1],\n",
    "   [1,7,8]]\n",
    "c=[[0,0,0],\n",
    "   [0,0,0],\n",
    "   [0,0,0]]\n",
    "for i in range(len(a)):\n",
    "    for j in range(len(b)):\n",
    "            for k in range(len(a)):\n",
    "                c[i][j] +=a[i][k]*b[k][j]\n",
    "for r in c:\n",
    "    print(r)"
   ]
  },
  {
   "cell_type": "code",
   "execution_count": 72,
   "metadata": {},
   "outputs": [
    {
     "name": "stdout",
     "output_type": "stream",
     "text": [
      "[47, 120, 83]\n",
      "[53, 102, 83]\n",
      "[44, 92, 46]\n"
     ]
    }
   ],
   "source": [
    "a=[[8,3,7],\n",
    "  [2,5,9],\n",
    "  [9,3,2]]\n",
    "b=[[2,7,3],\n",
    "   [8,5,1],\n",
    "   [1,7,8]]\n",
    "c=[[0,0,0],\n",
    "   [0,0,0],\n",
    "   [0,0,0]]\n",
    "for i in range(len(a)):\n",
    "    for j in range(len(b)):\n",
    "        k=0\n",
    "        while k<(len(b)):\n",
    "            t =a[i][k]*b[k][j]\n",
    "            k+=1\n",
    "            g =a[i][k]*b[k][j]\n",
    "            k+=1\n",
    "            f =a[i][k]*b[k][j]\n",
    "            c[i][j] =t+g+f\n",
    "            k+=1\n",
    "          \n",
    "for r in c:\n",
    "    print(r)"
   ]
  },
  {
   "cell_type": "code",
   "execution_count": 46,
   "metadata": {},
   "outputs": [
    {
     "name": "stdout",
     "output_type": "stream",
     "text": [
      "3\n"
     ]
    }
   ],
   "source": [
    "print(len(b))"
   ]
  },
  {
   "cell_type": "code",
   "execution_count": 67,
   "metadata": {},
   "outputs": [
    {
     "name": "stdout",
     "output_type": "stream",
     "text": [
      "mentod 2\n",
      "[8, 2, 9]\n",
      "[3, 5, 3]\n",
      "[7, 9, 2]\n",
      "mentod 2\n",
      "[8, 2, 9]\n",
      "[3, 5, 3]\n",
      "[7, 9, 2]\n"
     ]
    }
   ],
   "source": [
    "a=[[8,3,7],\n",
    "  [2,5,9],\n",
    "  [9,3,2]]\n",
    "c=[[0,0,0],\n",
    "   [0,0,0],\n",
    "   [0,0,0]]\n",
    "for i in range(len(a)):\n",
    "    for j in range(len(a)):\n",
    "        c[j][i]=a[i][j]\n",
    "\n",
    "print(\"mentod 1\")        \n",
    "for r in c:\n",
    "    print(r)\n",
    "    \n",
    "for i in range(len(a)):\n",
    "    for j in range(len(a)):\n",
    "        c[i][j]=a[j][i]\n",
    "        \n",
    "print(\"mentod 2\")        \n",
    "for r in c:\n",
    "    print(r)    "
   ]
  },
  {
   "cell_type": "code",
   "execution_count": null,
   "metadata": {},
   "outputs": [],
   "source": []
  },
  {
   "cell_type": "code",
   "execution_count": null,
   "metadata": {},
   "outputs": [],
   "source": []
  },
  {
   "cell_type": "code",
   "execution_count": null,
   "metadata": {},
   "outputs": [],
   "source": []
  }
 ],
 "metadata": {
  "kernelspec": {
   "display_name": "Python 3",
   "language": "python",
   "name": "python3"
  },
  "language_info": {
   "codemirror_mode": {
    "name": "ipython",
    "version": 3
   },
   "file_extension": ".py",
   "mimetype": "text/x-python",
   "name": "python",
   "nbconvert_exporter": "python",
   "pygments_lexer": "ipython3",
   "version": "3.7.4"
  }
 },
 "nbformat": 4,
 "nbformat_minor": 2
}
