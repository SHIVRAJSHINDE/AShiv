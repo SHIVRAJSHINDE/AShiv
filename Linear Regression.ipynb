{
 "cells": [
  {
   "cell_type": "code",
   "execution_count": 4,
   "metadata": {},
   "outputs": [
    {
     "name": "stdout",
     "output_type": "stream",
     "text": [
      "Dimension of y before reshaping:(139,)\n",
      "Dimension of X before reshaping:(139,)\n",
      "Dimension of y AFTER reshaping:(139, 1)\n",
      "Dimension of X AFTER reshaping:(139, 1)\n"
     ]
    }
   ],
   "source": [
    "#STEP:1of3\n",
    "import pandas as pd\n",
    "import numpy as np\n",
    "\n",
    "df = pd.read_csv('gapminder.csv')\n",
    "y=df['life'].values\n",
    "X=df['fertility'].values\n",
    "        #print the dimension of the x and y before reshaping\n",
    "print(\"Dimension of y before reshaping:{}\".format(y.shape))\n",
    "print(\"Dimension of X before reshaping:{}\".format(X.shape))\n",
    "        #sklearn packages need two dimension needs array, hence reshape X and y into 2D.\n",
    "y=y.reshape(-1,1)\n",
    "X=X.reshape(-1,1)\n",
    "        #Print the dimensions of X and y after reshaping\n",
    "print(\"Dimension of y AFTER reshaping:{}\".format(y.shape))\n",
    "print(\"Dimension of X AFTER reshaping:{}\".format(X.shape))"
   ]
  },
  {
   "cell_type": "code",
   "execution_count": 5,
   "metadata": {},
   "outputs": [
    {
     "name": "stdout",
     "output_type": "stream",
     "text": [
      "The score R^2 is:0.6192442167740035\n"
     ]
    }
   ],
   "source": [
    "#STEP:2of3 FIT linear model and observe the score\n",
    "from sklearn.linear_model import LinearRegression\n",
    "reg = LinearRegression()  #Create the regressor:reg\n",
    "reg.fit(X,y)              #fit model to the data\n",
    "print(\"The score R^2 is:{}\".format(reg.score(X,y)))#Print R#2\n"
   ]
  },
  {
   "cell_type": "code",
   "execution_count": 22,
   "metadata": {},
   "outputs": [
    {
     "data": {
      "image/png": "[encoded data removed]",
      "text/plain": [
       "<Figure size 432x288 with 1 Axes>"
      ]
     },
     "metadata": {
      "needs_background": "light"
     },
     "output_type": "display_data"
    }
   ],
   "source": [
    "#STEP:3of3 generate some test data and observe linear graph\n",
    "\n",
    "prediction_space = np.linspace(min(X),max(X)).reshape(-1,1)\n",
    "            #compute predictions ove the prediction space: y_pred\n",
    "\n",
    "y_pred = reg.predict(prediction_space)    \n",
    "\n",
    "            #Plot regression line\n",
    "import matplotlib.pyplot as plt\n",
    "plt.plot(prediction_space,y_pred,color='black',linewidth=1)\n",
    "plt.xlabel('FERTILITY__(X)')\n",
    "plt.ylabel('AGE__(Y)')\n",
    "plt.title('DATA')\n",
    "plt.scatter(X,y)\n",
    "plt.show()\n"
   ]
  },
  {
   "cell_type": "code",
   "execution_count": 25,
   "metadata": {},
   "outputs": [],
   "source": [
    "#step 0 of 5  importing necessary modules\n",
    "\n",
    "import numpy as np\n",
    "import pandas as pd\n",
    "from sklearn.model_selection import train_test_split\n",
    "from sklearn.linear_model import LinearRegression\n",
    "from sklearn.metrics import mean_squared_error,r2_score"
   ]
  },
  {
   "cell_type": "code",
   "execution_count": 28,
   "metadata": {},
   "outputs": [],
   "source": [
    "#step 1 of 5 Load data set\n",
    "df=pd.read_csv('gapminder.csv')\n",
    "        #Get required variable\n",
    "X=(df[df.columns[[0,1,2,3,4,5,8]]].values)\n",
    "y=df['life'].values"
   ]
  },
  {
   "cell_type": "code",
   "execution_count": 31,
   "metadata": {},
   "outputs": [],
   "source": [
    "#step 2 of 5 Creating traing and test sets\n",
    "X_train,X_test,y_train,y_test= train_test_split(X,y,test_size=0.3,random_state=42)"
   ]
  },
  {
   "cell_type": "code",
   "execution_count": 32,
   "metadata": {},
   "outputs": [
    {
     "data": {
      "text/plain": [
       "LinearRegression(copy_X=True, fit_intercept=True, n_jobs=None, normalize=False)"
      ]
     },
     "execution_count": 32,
     "metadata": {},
     "output_type": "execute_result"
    }
   ],
   "source": [
    "#step 3 of 5: Create model\n",
    "reg_all = LinearRegression() # Create the Regressor:reg_all\n",
    "reg_all.fit(X_train,y_train)#Fit the Regressor to the training Data"
   ]
  },
  {
   "cell_type": "code",
   "execution_count": 34,
   "metadata": {},
   "outputs": [],
   "source": [
    "#step 4 of 5:Predict using Model\n",
    "y_pred = reg_all.predict(X_test)#Predict on the test data y_pred"
   ]
  },
  {
   "cell_type": "code",
   "execution_count": 35,
   "metadata": {},
   "outputs": [
    {
     "name": "stdout",
     "output_type": "stream",
     "text": [
      "R^2:0.8275362991699202\n",
      "Root Mean Squareed Error3.351327413740935\n",
      "Standard Deviation :8.069897312257789\n"
     ]
    },
    {
     "data": {
      "text/plain": [
       "True"
      ]
     },
     "execution_count": 35,
     "metadata": {},
     "output_type": "execute_result"
    }
   ],
   "source": [
    "#Step 5 of 5: test the performance\n",
    "print(\"R^2:{}\".format(r2_score(y_test,y_pred)))     #compute and print R^2 # IT SHOULD BE NEAR TO ONE\n",
    "rmse = np.sqrt(mean_squared_error(y_test,y_pred))\n",
    "print(\"Root Mean Squareed Error{}\".format(rmse))\n",
    "std=np.std(y_test)\n",
    "print(\"Standard Deviation :{}\".format(std))\n",
    "rmse<std                          # For good model # it must be true"
   ]
  },
  {
   "cell_type": "code",
   "execution_count": 39,
   "metadata": {},
   "outputs": [
    {
     "name": "stdout",
     "output_type": "stream",
     "text": [
      "[0.79793311 0.82213781 0.87674946 0.81863756 0.93980894]\n",
      "Average 5-Fold CV Score:0.8510533744663128\n"
     ]
    }
   ],
   "source": [
    "#Cross Validation\n",
    "# import necessary modules\n",
    "from sklearn.linear_model import LinearRegression\n",
    "from sklearn.model_selection import cross_val_score\n",
    "    #Create a linear regression object: reg\n",
    "reg = LinearRegression()\n",
    "    #Compute 5 fold cross-validation  scores: cv_scores\n",
    "cv_scores = cross_val_score(reg,X,y,cv=5)\n",
    "    #Print the 5-fold cross-validation  scores\n",
    "print(cv_scores)\n",
    "    #Print the average 5-fold cross-validation score\n",
    "print(\"Average 5-Fold CV Score:{}\".format(np.mean(cv_scores)))"
   ]
  },
  {
   "cell_type": "code",
   "execution_count": 51,
   "metadata": {},
   "outputs": [
    {
     "name": "stdout",
     "output_type": "stream",
     "text": [
      "(506, 13)\n",
      "##### 02.datatype of bostion data set #####\n",
      "<class 'sklearn.utils.Bunch'>\n",
      "##### 03.Keys of boston data set #####\n",
      "dict_keys(['data', 'target', 'feature_names', 'DESCR', 'filename'])\n",
      "##### 04.Observe boston data key #####\n",
      "[[6.3200e-03 1.8000e+01 2.3100e+00 ... 1.5300e+01 3.9690e+02 4.9800e+00]\n",
      " [2.7310e-02 0.0000e+00 7.0700e+00 ... 1.7800e+01 3.9690e+02 9.1400e+00]\n",
      " [2.7290e-02 0.0000e+00 7.0700e+00 ... 1.7800e+01 3.9283e+02 4.0300e+00]\n",
      " ...\n",
      " [6.0760e-02 0.0000e+00 1.1930e+01 ... 2.1000e+01 3.9690e+02 5.6400e+00]\n",
      " [1.0959e-01 0.0000e+00 1.1930e+01 ... 2.1000e+01 3.9345e+02 6.4800e+00]\n",
      " [4.7410e-02 0.0000e+00 1.1930e+01 ... 2.1000e+01 3.9690e+02 7.8800e+00]]\n",
      "##### 05.Observe boston target key #####\n",
      "[24.  21.6 34.7 33.4 36.2 28.7 22.9 27.1 16.5 18.9 15.  18.9 21.7 20.4\n",
      " 18.2 19.9 23.1 17.5 20.2 18.2 13.6 19.6 15.2 14.5 15.6 13.9 16.6 14.8\n",
      " 18.4 21.  12.7 14.5 13.2 13.1 13.5 18.9 20.  21.  24.7 30.8 34.9 26.6\n",
      " 25.3 24.7 21.2 19.3 20.  16.6 14.4 19.4 19.7 20.5 25.  23.4 18.9 35.4\n",
      " 24.7 31.6 23.3 19.6 18.7 16.  22.2 25.  33.  23.5 19.4 22.  17.4 20.9\n",
      " 24.2 21.7 22.8 23.4 24.1 21.4 20.  20.8 21.2 20.3 28.  23.9 24.8 22.9\n",
      " 23.9 26.6 22.5 22.2 23.6 28.7 22.6 22.  22.9 25.  20.6 28.4 21.4 38.7\n",
      " 43.8 33.2 27.5 26.5 18.6 19.3 20.1 19.5 19.5 20.4 19.8 19.4 21.7 22.8\n",
      " 18.8 18.7 18.5 18.3 21.2 19.2 20.4 19.3 22.  20.3 20.5 17.3 18.8 21.4\n",
      " 15.7 16.2 18.  14.3 19.2 19.6 23.  18.4 15.6 18.1 17.4 17.1 13.3 17.8\n",
      " 14.  14.4 13.4 15.6 11.8 13.8 15.6 14.6 17.8 15.4 21.5 19.6 15.3 19.4\n",
      " 17.  15.6 13.1 41.3 24.3 23.3 27.  50.  50.  50.  22.7 25.  50.  23.8\n",
      " 23.8 22.3 17.4 19.1 23.1 23.6 22.6 29.4 23.2 24.6 29.9 37.2 39.8 36.2\n",
      " 37.9 32.5 26.4 29.6 50.  32.  29.8 34.9 37.  30.5 36.4 31.1 29.1 50.\n",
      " 33.3 30.3 34.6 34.9 32.9 24.1 42.3 48.5 50.  22.6 24.4 22.5 24.4 20.\n",
      " 21.7 19.3 22.4 28.1 23.7 25.  23.3 28.7 21.5 23.  26.7 21.7 27.5 30.1\n",
      " 44.8 50.  37.6 31.6 46.7 31.5 24.3 31.7 41.7 48.3 29.  24.  25.1 31.5\n",
      " 23.7 23.3 22.  20.1 22.2 23.7 17.6 18.5 24.3 20.5 24.5 26.2 24.4 24.8\n",
      " 29.6 42.8 21.9 20.9 44.  50.  36.  30.1 33.8 43.1 48.8 31.  36.5 22.8\n",
      " 30.7 50.  43.5 20.7 21.1 25.2 24.4 35.2 32.4 32.  33.2 33.1 29.1 35.1\n",
      " 45.4 35.4 46.  50.  32.2 22.  20.1 23.2 22.3 24.8 28.5 37.3 27.9 23.9\n",
      " 21.7 28.6 27.1 20.3 22.5 29.  24.8 22.  26.4 33.1 36.1 28.4 33.4 28.2\n",
      " 22.8 20.3 16.1 22.1 19.4 21.6 23.8 16.2 17.8 19.8 23.1 21.  23.8 23.1\n",
      " 20.4 18.5 25.  24.6 23.  22.2 19.3 22.6 19.8 17.1 19.4 22.2 20.7 21.1\n",
      " 19.5 18.5 20.6 19.  18.7 32.7 16.5 23.9 31.2 17.5 17.2 23.1 24.5 26.6\n",
      " 22.9 24.1 18.6 30.1 18.2 20.6 17.8 21.7 22.7 22.6 25.  19.9 20.8 16.8\n",
      " 21.9 27.5 21.9 23.1 50.  50.  50.  50.  50.  13.8 13.8 15.  13.9 13.3\n",
      " 13.1 10.2 10.4 10.9 11.3 12.3  8.8  7.2 10.5  7.4 10.2 11.5 15.1 23.2\n",
      "  9.7 13.8 12.7 13.1 12.5  8.5  5.   6.3  5.6  7.2 12.1  8.3  8.5  5.\n",
      " 11.9 27.9 17.2 27.5 15.  17.2 17.9 16.3  7.   7.2  7.5 10.4  8.8  8.4\n",
      " 16.7 14.2 20.8 13.4 11.7  8.3 10.2 10.9 11.   9.5 14.5 14.1 16.1 14.3\n",
      " 11.7 13.4  9.6  8.7  8.4 12.8 10.5 17.1 18.4 15.4 10.8 11.8 14.9 12.6\n",
      " 14.1 13.  13.4 15.2 16.1 17.8 14.9 14.1 12.7 13.5 14.9 20.  16.4 17.7\n",
      " 19.5 20.2 21.4 19.9 19.  19.1 19.1 20.1 19.9 19.6 23.2 29.8 13.8 13.3\n",
      " 16.7 12.  14.6 21.4 23.  23.7 25.  21.8 20.6 21.2 19.1 20.6 15.2  7.\n",
      "  8.1 13.6 20.1 21.8 24.5 23.1 19.7 18.3 21.2 17.5 16.8 22.4 20.6 23.9\n",
      " 22.  11.9]\n",
      "##### 06.Import required Modules #####\n",
      "##### 07.Split data as train and test #####\n",
      "#### 08. Fit model using train data ####\n",
      "#### 09. predict on test data ####\n",
      "#### 10.Compute and print R^2 and RMSE ####\n",
      "R^2:0.7112260057484878\n",
      "Root Mean Squared Error:4.638689926172863\n"
     ]
    }
   ],
   "source": [
    "# Linear regression using bostion data.\n",
    "\n",
    "from sklearn.datasets import load_boston\n",
    "boston = load_boston()\n",
    "print(boston.data.shape)\n",
    "print(\"##### 02.datatype of bostion data set #####\")\n",
    "print(type(boston))\n",
    "print(\"##### 03.Keys of boston data set #####\")\n",
    "print(boston.keys())\n",
    "print(\"##### 04.Observe boston data key #####\")\n",
    "print(boston.data)\n",
    "X = boston.data\n",
    "print(\"##### 05.Observe boston target key #####\")\n",
    "print(boston.target)\n",
    "y=boston.target\n",
    "print(\"##### 06.Import required Modules #####\")\n",
    "from sklearn import linear_model\n",
    "from sklearn.model_selection import train_test_split\n",
    "from sklearn.metrics import mean_squared_error\n",
    "\n",
    "import numpy as np\n",
    "print(\"##### 07.Split data as train and test #####\")\n",
    "\n",
    "X_train, X_test, y_train, y_test = train_test_split(X,y, test_size=0.3,random_state=42)\n",
    "print(\"#### 08. Fit model using train data ####\")\n",
    "reg_all = linear_model.LinearRegression()\n",
    "reg_all.fit(X_train,y_train)\n",
    "print(\"#### 09. predict on test data ####\")\n",
    "\n",
    "y_pred = reg_all.predict(X_test)\n",
    "print(\"#### 10.Compute and print R^2 and RMSE ####\")\n",
    "print(\"R^2:{}\".format(reg_all.score(X_test,y_test)))\n",
    "rmse = np.sqrt(mean_squared_error(y_test,y_pred))\n",
    "print(\"Root Mean Squared Error:{}\".format(rmse))\n",
    "\n"
   ]
  }
 ],
 "metadata": {
  "kernelspec": {
   "display_name": "Python 3",
   "language": "python",
   "name": "python3"
  },
  "language_info": {
   "codemirror_mode": {
    "name": "ipython",
    "version": 3
   },
   "file_extension": ".py",
   "mimetype": "text/x-python",
   "name": "python",
   "nbconvert_exporter": "python",
   "pygments_lexer": "ipython3",
   "version": "3.7.4"
  }
 },
 "nbformat": 4,
 "nbformat_minor": 2
}
