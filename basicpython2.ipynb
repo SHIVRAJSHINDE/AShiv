{
 "cells": [
  {
   "cell_type": "code",
   "execution_count": 5,
   "metadata": {},
   "outputs": [
    {
     "name": "stdout",
     "output_type": "stream",
     "text": [
      "(5, 6, 5)\n"
     ]
    }
   ],
   "source": [
    "def mod2plus5(x1,x2,x3):\n",
    "    def inner(x):\n",
    "        return x % 2 + 5\n",
    "    return(inner(x1),inner(x2),inner(x3))\n",
    "\n",
    "print(mod2plus5(2,3,4))"
   ]
  },
  {
   "cell_type": "code",
   "execution_count": 16,
   "metadata": {},
   "outputs": [
    {
     "name": "stdout",
     "output_type": "stream",
     "text": [
      "Welcome  shivraj\n"
     ]
    }
   ],
   "source": [
    "def greeting(name):\n",
    "    def welcome():\n",
    "        return \"Welcome  \"+name\n",
    "    return (welcome())\n",
    "print(greeting(\"shivraj\"))"
   ]
  },
  {
   "cell_type": "code",
   "execution_count": 19,
   "metadata": {},
   "outputs": [
    {
     "name": "stdout",
     "output_type": "stream",
     "text": [
      "9\n"
     ]
    }
   ],
   "source": [
    "def raise_val(n):\n",
    "    def inner(x):\n",
    "        raised = x**n\n",
    "        return raised\n",
    "    return inner(3)\n",
    "square = raise_val(2)\n",
    "print(square)"
   ]
  },
  {
   "cell_type": "code",
   "execution_count": 28,
   "metadata": {},
   "outputs": [
    {
     "name": "stdout",
     "output_type": "stream",
     "text": [
      "inner 2\n",
      "outer 1\n"
     ]
    }
   ],
   "source": [
    "def outer():\n",
    "    n=1\n",
    "    def inner():\n",
    "      #  nonlocal n\n",
    "        n=2\n",
    "        print(\"inner \" + str(n))\n",
    "    inner()\n",
    "    print(\"outer \"+str(n))\n",
    "\n",
    "outer()"
   ]
  },
  {
   "cell_type": "code",
   "execution_count": 35,
   "metadata": {},
   "outputs": [
    {
     "name": "stdout",
     "output_type": "stream",
     "text": [
      "Hellow, orld 12\n"
     ]
    }
   ],
   "source": [
    "def afun(invar):\n",
    "    leninvar = len(invar)\n",
    "    # print('Inuput variable is of length',leninvar)\n",
    "    print(invar,leninvar)\n",
    "\n",
    "\n",
    "afun('Hellow, orld')\n",
    "    "
   ]
  },
  {
   "cell_type": "code",
   "execution_count": 37,
   "metadata": {},
   "outputs": [
    {
     "name": "stdout",
     "output_type": "stream",
     "text": [
      "9\n",
      "27\n"
     ]
    }
   ],
   "source": [
    "def power(number, pow=2):\n",
    "    new_value=number ** pow\n",
    "    return new_value\n",
    "    \n",
    "print(power(3))   \n",
    "print(power(3,3))   \n"
   ]
  },
  {
   "cell_type": "code",
   "execution_count": 46,
   "metadata": {},
   "outputs": [
    {
     "name": "stdout",
     "output_type": "stream",
     "text": [
      "<class 'tuple'>\n",
      "12\n",
      "<class 'tuple'>\n",
      "210\n"
     ]
    }
   ],
   "source": [
    "def add_all(*abc):\n",
    "    sum_all=0\n",
    "    print(type(abc))\n",
    "    for i in abc:\n",
    "        sum_all +=i\n",
    "    return sum_all\n",
    "\n",
    "print(add_all(4,8))\n",
    "print(add_all(10,20,30,40,50,60))"
   ]
  },
  {
   "cell_type": "code",
   "execution_count": 57,
   "metadata": {},
   "outputs": [
    {
     "name": "stdout",
     "output_type": "stream",
     "text": [
      "<class 'dict'>\n",
      "student1: raj\n",
      "student2: akshay\n",
      "student3: sunil\n",
      "student4: sanju\n"
     ]
    }
   ],
   "source": [
    "def abc(**xyz):\n",
    "    print(type(xyz))\n",
    "    for i , j in xyz.items():\n",
    "        print(i+\": \"+j)\n",
    "abc(student1=\"raj\",student2=\"akshay\",student3=\"sunil\",student4=\"sanju\")\n",
    "#abc(student1:\"raj\",student2:\"akshay\",student3:\"sunil\",student4:\"sanju\")"
   ]
  }
 ],
 "metadata": {
  "kernelspec": {
   "display_name": "Python 3",
   "language": "python",
   "name": "python3"
  },
  "language_info": {
   "codemirror_mode": {
    "name": "ipython",
    "version": 3
   },
   "file_extension": ".py",
   "mimetype": "text/x-python",
   "name": "python",
   "nbconvert_exporter": "python",
   "pygments_lexer": "ipython3",
   "version": "3.7.4"
  }
 },
 "nbformat": 4,
 "nbformat_minor": 2
}
