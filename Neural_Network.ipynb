{
 "cells": [
  {
   "cell_type": "code",
   "execution_count": 7,
   "metadata": {},
   "outputs": [
    {
     "name": "stdout",
     "output_type": "stream",
     "text": [
      "[5 1]\n",
      "11\n"
     ]
    }
   ],
   "source": [
    "import numpy as np\n",
    "input_data = np.array([2,3])\n",
    "weights = {'node_0':np.array([1,1]),\n",
    "          'node_1':np.array([-1,1]),\n",
    "          'output':np.array([2,1])}\n",
    "node_0_value = (input_data*weights['node_0']).sum()\n",
    "node_1_value = (input_data*weights['node_1']).sum()\n",
    "hidden_layers_values=np.array([node_0_value,node_1_value])\n",
    "print(hidden_layers_values)\n",
    "output = (hidden_layers_values * weights['output']).sum()\n",
    "print(output)"
   ]
  },
  {
   "cell_type": "code",
   "execution_count": 6,
   "metadata": {},
   "outputs": [
    {
     "name": "stdout",
     "output_type": "stream",
     "text": [
      "5\n",
      "0.9999092042625951\n",
      "1\n",
      "0.7615941559557649\n",
      "[0.9999092  0.76159416]\n",
      "1.2382242525694254\n"
     ]
    }
   ],
   "source": [
    "import numpy as np\n",
    "input_data = np.array([2,3])\n",
    "weights = {'node_0':np.array([1,1]),'node_1':np.array([-1,1]),'output':np.array([2,-1])}\n",
    "node_0_input = (input_data * weights['node_0']).sum()\n",
    "node_0_output = np.tanh(node_0_input)\n",
    "node_1_input = (input_data * weights['node_1']).sum()\n",
    "node_1_output = np.tanh(node_1_input)\n",
    "\n",
    "print(node_0_input)\n",
    "print(node_0_output)\n",
    "print(node_1_input)\n",
    "print(node_1_output)\n",
    "\n",
    "hidden_layer_output = np.array([node_0_output,node_1_output])\n",
    "print(hidden_layer_output)\n",
    "output = (hidden_layer_output * weights['output']).sum()\n",
    "print(output)"
   ]
  },
  {
   "cell_type": "code",
   "execution_count": 3,
   "metadata": {},
   "outputs": [
    {
     "name": "stdout",
     "output_type": "stream",
     "text": [
      "[5 1]\n",
      "11\n",
      "5\n",
      "1\n"
     ]
    }
   ],
   "source": [
    "import numpy as np\n",
    "input_data = np.array([2,3])\n",
    "weights = {'node_0':np.array([1,1]),\n",
    "          'node_1':np.array([-1,1]),\n",
    "          'output':np.array([2,1])}\n",
    "node_0_value = (input_data*weights['node_0']).sum()\n",
    "node_1_value = (input_data*weights['node_1']).sum()\n",
    "hidden_layers_values=np.array([node_0_value,node_1_value])\n",
    "print(hidden_layers_values)\n",
    "output = (hidden_layers_values * weights['output']).sum()\n",
    "print(output)\n",
    "\n",
    "print(node_0_value)\n",
    "print(node_1_value)\n",
    "\n"
   ]
  }
 ],
 "metadata": {
  "kernelspec": {
   "display_name": "Python 3",
   "language": "python",
   "name": "python3"
  },
  "language_info": {
   "codemirror_mode": {
    "name": "ipython",
    "version": 3
   },
   "file_extension": ".py",
   "mimetype": "text/x-python",
   "name": "python",
   "nbconvert_exporter": "python",
   "pygments_lexer": "ipython3",
   "version": "3.7.4"
  }
 },
 "nbformat": 4,
 "nbformat_minor": 2
}
